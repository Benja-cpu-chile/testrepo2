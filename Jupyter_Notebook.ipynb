{
 "cells": [
  {
   "cell_type": "markdown",
   "metadata": {},
   "source": [
    "<center>\n",
    "    <img src=\"https://cf-courses-data.s3.us.cloud-object-storage.appdomain.cloud/IBMDeveloperSkillsNetwork-DS0105EN-SkillsNetwork/labs/Module2/images/SN_web_lightmode.png\" width=\"300\" alt=\"cognitiveclass.ai logo\">\n",
    "</center>\n"
   ]
  },
  {
   "cell_type": "markdown",
   "metadata": {},
   "source": [
    "#### Add your code below following the instructions given in the course\n"
   ]
  },
  {
   "cell_type": "markdown",
   "metadata": {},
   "source": [
    "# hola mundo"
   ]
  },
  {
   "cell_type": "markdown",
   "metadata": {},
   "source": [
    "## se hara el print de \"hola mundo\""
   ]
  },
  {
   "cell_type": "code",
   "execution_count": 9,
   "metadata": {},
   "outputs": [
    {
     "name": "stdout",
     "output_type": "stream",
     "text": [
      "hola mundo\n"
     ]
    }
   ],
   "source": [
    "print(\"hola mundo\")"
   ]
  },
  {
   "cell_type": "markdown",
   "metadata": {},
   "source": [
    "Lenguajes de Ciencia de Datos:\n",
    "\n",
    "* Python\n",
    "* R\n",
    "* SQL\n",
    "* Scala\n",
    "* Julia"
   ]
  },
  {
   "cell_type": "markdown",
   "metadata": {},
   "source": [
    "Bibliotecas de Ciencia de Datos:\n",
    "\n",
    "* NumPy\n",
    "* Pandas\n",
    "* Scikit-learn\n",
    "* Matplotlib\n",
    "* Seaborn\n",
    "* TensorFlow\n",
    "* PyTorch"
   ]
  },
  {
   "cell_type": "markdown",
   "metadata": {},
   "source": [
    "| Herramientas de Ciencia de Datos | Descripción |\n",
    "| :------------------------------ | :---------- |\n",
    "| Jupyter Notebook/Lab            | Entorno interactivo para código y texto |\n",
    "| RStudio                         | IDE para R |\n",
    "| VS Code                         | Editor de código versátil |\n",
    "| Git/GitHub                      | Control de versiones |\n",
    "| Tableau                         | Visualización de datos |\n",
    "| Apache Spark                    | Procesamiento de grandes datos |"
   ]
  },
  {
   "cell_type": "markdown",
   "metadata": {},
   "source": [
    "Ejemplos de Expresiones Aritméticas:\n",
    "\n",
    "* Suma: 2 + 3 = 5\n",
    "* Resta: 5 - 1 = 4\n",
    "* Multiplicación: 4 * 6 = 24\n",
    "* División: 10 / 2 = 5"
   ]
  },
  {
   "cell_type": "code",
   "execution_count": 10,
   "metadata": {},
   "outputs": [
    {
     "name": "stdout",
     "output_type": "stream",
     "text": [
      "Producto: 50\n",
      "Suma: 15\n"
     ]
    }
   ],
   "source": [
    "num1 = 5\n",
    "num2 = 10\n",
    "\n",
    "producto = num1 * num2\n",
    "suma = num1 + num2\n",
    "\n",
    "print(f\"Producto: {producto}\")\n",
    "print(f\"Suma: {suma}\")"
   ]
  },
  {
   "cell_type": "code",
   "execution_count": 11,
   "metadata": {},
   "outputs": [
    {
     "name": "stdout",
     "output_type": "stream",
     "text": [
      "150 minutos son 2.5 horas\n"
     ]
    }
   ],
   "source": [
    "minutos = 150\n",
    "horas = minutos / 60\n",
    "\n",
    "print(f\"{minutos} minutos son {horas} horas\")"
   ]
  },
  {
   "cell_type": "code",
   "execution_count": 12,
   "metadata": {},
   "outputs": [
    {
     "name": "stdout",
     "output_type": "stream",
     "text": [
      "* Aprender Python para Ciencia de Datos\n",
      "* Dominar las bibliotecas Pandas y NumPy\n",
      "* Crear visualizaciones de datos efectivas\n",
      "* Construir modelos de aprendizaje automático\n"
     ]
    }
   ],
   "source": [
    "objetivos = [\n",
    "    \"Aprender Python para Ciencia de Datos\",\n",
    "    \"Dominar las bibliotecas Pandas y NumPy\",\n",
    "    \"Crear visualizaciones de datos efectivas\",\n",
    "    \"Construir modelos de aprendizaje automático\",\n",
    "]\n",
    "\n",
    "for objetivo in objetivos:\n",
    "    print(f\"* {objetivo}\")"
   ]
  },
  {
   "cell_type": "markdown",
   "metadata": {},
   "source": [
    "Autor: Benjamin"
   ]
  },
  {
   "cell_type": "code",
   "execution_count": null,
   "metadata": {},
   "outputs": [],
   "source": []
  }
 ],
 "metadata": {
  "kernelspec": {
   "display_name": "Python 3 (ipykernel)",
   "language": "python",
   "name": "python3"
  },
  "language_info": {
   "codemirror_mode": {
    "name": "ipython",
    "version": 3
   },
   "file_extension": ".py",
   "mimetype": "text/x-python",
   "name": "python",
   "nbconvert_exporter": "python",
   "pygments_lexer": "ipython3",
   "version": "3.12.8"
  }
 },
 "nbformat": 4,
 "nbformat_minor": 4
}
